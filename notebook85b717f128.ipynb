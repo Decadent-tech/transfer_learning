{
 "cells": [
  {
   "cell_type": "code",
   "execution_count": null,
   "metadata": {
    "_cell_guid": "b1076dfc-b9ad-4769-8c92-a6c4dae69d19",
    "_uuid": "8f2839f25d086af736a60e9eeb907d3b93b6e0e5",
    "execution": {
     "iopub.execute_input": "2025-09-18T15:42:50.071182Z",
     "iopub.status.busy": "2025-09-18T15:42:50.070854Z",
     "iopub.status.idle": "2025-09-18T15:44:46.752553Z",
     "shell.execute_reply": "2025-09-18T15:44:46.751217Z",
     "shell.execute_reply.started": "2025-09-18T15:42:50.071150Z"
    },
    "trusted": true
   },
   "outputs": [],
   "source": [
    "# This Python 3 environment comes with many helpful analytics libraries installed\n",
    "# It is defined by the kaggle/python Docker image: https://github.com/kaggle/docker-python\n",
    "# For example, here's several helpful packages to load\n",
    "\n",
    "import numpy as np # linear algebra\n",
    "import pandas as pd # data processing, CSV file I/O (e.g. pd.read_csv)\n",
    "\n",
    "# Input data files are available in the read-only \"../input/\" directory\n",
    "# For example, running this (by clicking run or pressing Shift+Enter) will list all files under the input directory\n",
    "\n",
    "import os\n",
    "for dirname, _, filenames in os.walk('/kaggle/input'):\n",
    "    for filename in filenames:\n",
    "        print(os.path.join(dirname, filename))\n",
    "\n",
    "# You can write up to 20GB to the current directory (/kaggle/working/) that gets preserved as output when you create a version using \"Save & Run All\" \n",
    "# You can also write temporary files to /kaggle/temp/, but they won't be saved outside of the current session"
   ]
  },
  {
   "cell_type": "code",
   "execution_count": 15,
   "metadata": {
    "execution": {
     "iopub.execute_input": "2025-09-18T15:52:49.762048Z",
     "iopub.status.busy": "2025-09-18T15:52:49.761705Z",
     "iopub.status.idle": "2025-09-18T15:52:49.898209Z",
     "shell.execute_reply": "2025-09-18T15:52:49.897291Z",
     "shell.execute_reply.started": "2025-09-18T15:52:49.762014Z"
    },
    "trusted": true
   },
   "outputs": [],
   "source": [
    "import os\n",
    "import numpy as np\n",
    "import pandas as pd\n",
    "\n",
    "from tensorflow.keras.preprocessing.image import ImageDataGenerator\n"
   ]
  },
  {
   "cell_type": "code",
   "execution_count": 2,
   "metadata": {
    "execution": {
     "iopub.execute_input": "2025-09-18T15:48:07.611990Z",
     "iopub.status.busy": "2025-09-18T15:48:07.611656Z",
     "iopub.status.idle": "2025-09-18T15:48:07.618076Z",
     "shell.execute_reply": "2025-09-18T15:48:07.616386Z",
     "shell.execute_reply.started": "2025-09-18T15:48:07.611959Z"
    },
    "trusted": true
   },
   "outputs": [],
   "source": [
    "folder_path='/kaggle/input/utkface-new/UTKFace'"
   ]
  },
  {
   "cell_type": "code",
   "execution_count": 3,
   "metadata": {
    "execution": {
     "iopub.execute_input": "2025-09-18T15:48:15.612805Z",
     "iopub.status.busy": "2025-09-18T15:48:15.612469Z",
     "iopub.status.idle": "2025-09-18T15:48:15.648458Z",
     "shell.execute_reply": "2025-09-18T15:48:15.647402Z",
     "shell.execute_reply.started": "2025-09-18T15:48:15.612780Z"
    },
    "trusted": true
   },
   "outputs": [],
   "source": [
    "age=[]\n",
    "gender=[]\n",
    "img_path=[]\n",
    "for file in os.listdir(folder_path):\n",
    "  age.append(int(file.split('_')[0]))\n",
    "  gender.append(int(file.split('_')[1]))\n",
    "  img_path.append(file)"
   ]
  },
  {
   "cell_type": "code",
   "execution_count": 4,
   "metadata": {
    "execution": {
     "iopub.execute_input": "2025-09-18T15:48:24.109564Z",
     "iopub.status.busy": "2025-09-18T15:48:24.109149Z",
     "iopub.status.idle": "2025-09-18T15:48:24.118735Z",
     "shell.execute_reply": "2025-09-18T15:48:24.117179Z",
     "shell.execute_reply.started": "2025-09-18T15:48:24.109540Z"
    },
    "trusted": true
   },
   "outputs": [
    {
     "data": {
      "text/plain": [
       "23708"
      ]
     },
     "execution_count": 4,
     "metadata": {},
     "output_type": "execute_result"
    }
   ],
   "source": [
    "len(age)"
   ]
  },
  {
   "cell_type": "code",
   "execution_count": 6,
   "metadata": {
    "execution": {
     "iopub.execute_input": "2025-09-18T15:48:41.114671Z",
     "iopub.status.busy": "2025-09-18T15:48:41.113152Z",
     "iopub.status.idle": "2025-09-18T15:48:41.135197Z",
     "shell.execute_reply": "2025-09-18T15:48:41.133916Z",
     "shell.execute_reply.started": "2025-09-18T15:48:41.114630Z"
    },
    "trusted": true
   },
   "outputs": [],
   "source": [
    "df = pd.DataFrame({'age':age,'gender':gender,'img':img_path})"
   ]
  },
  {
   "cell_type": "code",
   "execution_count": 7,
   "metadata": {
    "execution": {
     "iopub.execute_input": "2025-09-18T15:48:49.141917Z",
     "iopub.status.busy": "2025-09-18T15:48:49.141588Z",
     "iopub.status.idle": "2025-09-18T15:48:49.148801Z",
     "shell.execute_reply": "2025-09-18T15:48:49.147487Z",
     "shell.execute_reply.started": "2025-09-18T15:48:49.141893Z"
    },
    "trusted": true
   },
   "outputs": [
    {
     "data": {
      "text/plain": [
       "(23708, 3)"
      ]
     },
     "execution_count": 7,
     "metadata": {},
     "output_type": "execute_result"
    }
   ],
   "source": [
    "df.shape"
   ]
  },
  {
   "cell_type": "code",
   "execution_count": 8,
   "metadata": {
    "execution": {
     "iopub.execute_input": "2025-09-18T15:49:02.702086Z",
     "iopub.status.busy": "2025-09-18T15:49:02.701748Z",
     "iopub.status.idle": "2025-09-18T15:49:02.730766Z",
     "shell.execute_reply": "2025-09-18T15:49:02.729604Z",
     "shell.execute_reply.started": "2025-09-18T15:49:02.702061Z"
    },
    "trusted": true
   },
   "outputs": [
    {
     "data": {
      "text/html": [
       "<div>\n",
       "<style scoped>\n",
       "    .dataframe tbody tr th:only-of-type {\n",
       "        vertical-align: middle;\n",
       "    }\n",
       "\n",
       "    .dataframe tbody tr th {\n",
       "        vertical-align: top;\n",
       "    }\n",
       "\n",
       "    .dataframe thead th {\n",
       "        text-align: right;\n",
       "    }\n",
       "</style>\n",
       "<table border=\"1\" class=\"dataframe\">\n",
       "  <thead>\n",
       "    <tr style=\"text-align: right;\">\n",
       "      <th></th>\n",
       "      <th>age</th>\n",
       "      <th>gender</th>\n",
       "      <th>img</th>\n",
       "    </tr>\n",
       "  </thead>\n",
       "  <tbody>\n",
       "    <tr>\n",
       "      <th>0</th>\n",
       "      <td>26</td>\n",
       "      <td>0</td>\n",
       "      <td>26_0_2_20170104023102422.jpg.chip.jpg</td>\n",
       "    </tr>\n",
       "    <tr>\n",
       "      <th>1</th>\n",
       "      <td>22</td>\n",
       "      <td>1</td>\n",
       "      <td>22_1_1_20170112233644761.jpg.chip.jpg</td>\n",
       "    </tr>\n",
       "    <tr>\n",
       "      <th>2</th>\n",
       "      <td>21</td>\n",
       "      <td>1</td>\n",
       "      <td>21_1_3_20170105003215901.jpg.chip.jpg</td>\n",
       "    </tr>\n",
       "    <tr>\n",
       "      <th>3</th>\n",
       "      <td>28</td>\n",
       "      <td>0</td>\n",
       "      <td>28_0_0_20170117180555824.jpg.chip.jpg</td>\n",
       "    </tr>\n",
       "    <tr>\n",
       "      <th>4</th>\n",
       "      <td>17</td>\n",
       "      <td>1</td>\n",
       "      <td>17_1_4_20170103222931966.jpg.chip.jpg</td>\n",
       "    </tr>\n",
       "  </tbody>\n",
       "</table>\n",
       "</div>"
      ],
      "text/plain": [
       "   age  gender                                    img\n",
       "0   26       0  26_0_2_20170104023102422.jpg.chip.jpg\n",
       "1   22       1  22_1_1_20170112233644761.jpg.chip.jpg\n",
       "2   21       1  21_1_3_20170105003215901.jpg.chip.jpg\n",
       "3   28       0  28_0_0_20170117180555824.jpg.chip.jpg\n",
       "4   17       1  17_1_4_20170103222931966.jpg.chip.jpg"
      ]
     },
     "execution_count": 8,
     "metadata": {},
     "output_type": "execute_result"
    }
   ],
   "source": [
    "df.head()"
   ]
  },
  {
   "cell_type": "code",
   "execution_count": 9,
   "metadata": {
    "execution": {
     "iopub.execute_input": "2025-09-18T15:49:14.839265Z",
     "iopub.status.busy": "2025-09-18T15:49:14.838829Z",
     "iopub.status.idle": "2025-09-18T15:49:14.856534Z",
     "shell.execute_reply": "2025-09-18T15:49:14.855393Z",
     "shell.execute_reply.started": "2025-09-18T15:49:14.839242Z"
    },
    "trusted": true
   },
   "outputs": [],
   "source": [
    "train_df = df.sample(frac=1,random_state=0).iloc[:20000]\n",
    "test_df = df.sample(frac=1,random_state=0).iloc[20000:]"
   ]
  },
  {
   "cell_type": "code",
   "execution_count": 10,
   "metadata": {
    "execution": {
     "iopub.execute_input": "2025-09-18T15:49:42.211385Z",
     "iopub.status.busy": "2025-09-18T15:49:42.210152Z",
     "iopub.status.idle": "2025-09-18T15:49:42.217394Z",
     "shell.execute_reply": "2025-09-18T15:49:42.216574Z",
     "shell.execute_reply.started": "2025-09-18T15:49:42.211344Z"
    },
    "trusted": true
   },
   "outputs": [
    {
     "data": {
      "text/plain": [
       "((20000, 3), (3708, 3))"
      ]
     },
     "execution_count": 10,
     "metadata": {},
     "output_type": "execute_result"
    }
   ],
   "source": [
    "train_df.shape , test_df.shape"
   ]
  },
  {
   "cell_type": "code",
   "execution_count": 16,
   "metadata": {
    "execution": {
     "iopub.execute_input": "2025-09-18T15:52:54.984913Z",
     "iopub.status.busy": "2025-09-18T15:52:54.984588Z",
     "iopub.status.idle": "2025-09-18T15:52:54.990325Z",
     "shell.execute_reply": "2025-09-18T15:52:54.989374Z",
     "shell.execute_reply.started": "2025-09-18T15:52:54.984890Z"
    },
    "trusted": true
   },
   "outputs": [],
   "source": [
    "train_datagen = ImageDataGenerator(rescale=1./255,\n",
    "                                   rotation_range=30,\n",
    "                                   width_shift_range=0.2,\n",
    "                                   height_shift_range=0.2,\n",
    "                                   shear_range=0.2,\n",
    "                                   zoom_range=0.2,\n",
    "                                   horizontal_flip=True)\n",
    "\n",
    "test_datagen = ImageDataGenerator(rescale=1./255)"
   ]
  },
  {
   "cell_type": "code",
   "execution_count": 25,
   "metadata": {
    "execution": {
     "iopub.execute_input": "2025-09-18T15:58:03.464232Z",
     "iopub.status.busy": "2025-09-18T15:58:03.463185Z",
     "iopub.status.idle": "2025-09-18T15:58:18.072997Z",
     "shell.execute_reply": "2025-09-18T15:58:18.071835Z",
     "shell.execute_reply.started": "2025-09-18T15:58:03.464196Z"
    },
    "trusted": true
   },
   "outputs": [
    {
     "name": "stdout",
     "output_type": "stream",
     "text": [
      "Found 20000 validated image filenames.\n",
      "Found 3708 validated image filenames.\n"
     ]
    }
   ],
   "source": [
    "train_generator = train_datagen.flow_from_dataframe(train_df,\n",
    "                                                    directory=folder_path,\n",
    "                                                    x_col='img',\n",
    "                                                    y_col=['age','gender'],\n",
    "                                                    target_size=(200,200),\n",
    "                                                    class_mode='multi_output')\n",
    "\n",
    "test_generator = test_datagen.flow_from_dataframe(test_df,\n",
    "                                                    directory=folder_path,\n",
    "                                                    x_col='img',\n",
    "                                                    y_col=['age','gender'],\n",
    "                                                    target_size=(200,200),\n",
    "                                                  class_mode='multi_output')"
   ]
  },
  {
   "cell_type": "code",
   "execution_count": 27,
   "metadata": {
    "execution": {
     "iopub.execute_input": "2025-09-18T15:58:41.474864Z",
     "iopub.status.busy": "2025-09-18T15:58:41.474522Z",
     "iopub.status.idle": "2025-09-18T15:58:45.442525Z",
     "shell.execute_reply": "2025-09-18T15:58:45.441276Z",
     "shell.execute_reply.started": "2025-09-18T15:58:41.474841Z"
    },
    "trusted": true
   },
   "outputs": [],
   "source": [
    "from keras.applications.resnet50 import ResNet50\n",
    "from keras.layers import *\n",
    "from keras.models import Model\n",
    "\n",
    "resnet = ResNet50(include_top=False, input_shape=(200,200,3))\n",
    "resnet = ResNet50(include_top=False, input_shape=(200,200,3))\n",
    "\n",
    "resnet.trainable=False\n",
    "\n",
    "output = resnet.layers[-1].output\n",
    "\n",
    "flatten = Flatten()(output)\n",
    "\n",
    "dense1 = Dense(512, activation='relu')(flatten)\n",
    "dense2 = Dense(512,activation='relu')(flatten)\n",
    "\n",
    "dense3 = Dense(512,activation='relu')(dense1)\n",
    "dense4 = Dense(512,activation='relu')(dense2)\n",
    "\n",
    "output1 = Dense(1,activation='linear',name='age')(dense3)\n",
    "output2 = Dense(1,activation='sigmoid',name='gender')(dense4)\n",
    "model = Model(inputs=resnet.input,outputs=[output1,output2])\n",
    "\n",
    "model.compile(optimizer='adam', loss={'age': 'mae', 'gender': 'binary_crossentropy'}, metrics={'age': 'mae', 'gender': 'accuracy'},loss_weights={'age':1,'gender':99})"
   ]
  },
  {
   "cell_type": "code",
   "execution_count": null,
   "metadata": {
    "trusted": true
   },
   "outputs": [],
   "source": [
    "model.fit(train_generator, batch_size=64, epochs=10, validation_data=test_generator)"
   ]
  }
 ],
 "metadata": {
  "kaggle": {
   "accelerator": "none",
   "dataSources": [
    {
     "datasetId": 44109,
     "sourceId": 78156,
     "sourceType": "datasetVersion"
    }
   ],
   "dockerImageVersionId": 31089,
   "isGpuEnabled": false,
   "isInternetEnabled": true,
   "language": "python",
   "sourceType": "notebook"
  },
  "kernelspec": {
   "display_name": "Python 3",
   "language": "python",
   "name": "python3"
  },
  "language_info": {
   "codemirror_mode": {
    "name": "ipython",
    "version": 3
   },
   "file_extension": ".py",
   "mimetype": "text/x-python",
   "name": "python",
   "nbconvert_exporter": "python",
   "pygments_lexer": "ipython3",
   "version": "3.11.13"
  }
 },
 "nbformat": 4,
 "nbformat_minor": 4
}
